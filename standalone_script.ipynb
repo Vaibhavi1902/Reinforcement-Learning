#Create two files in the same directory:

multi_disease_env.py — contains the environment
run_env.py — for running/testing the environment.

run_env.py should contain:
from multi_disease_env import MultiDiseaseDiagnosisEnv

# Initialize the environment
env = MultiDiseaseDiagnosisEnv()
obs = env.reset()

done = False
total_reward = 0

while not done:
    action = env.action_space.sample()  # Random action; replace with RL model later
    obs, reward, done, info = env.step(action)
    total_reward += reward
    print(f"Action: {action}, Reward: {reward}")
    env.render()

print(f"Total reward: {total_reward}")
#run it from terminal:


python run_env.py
#Inside a Jupyter Notebook

from multi_disease_env import MultiDiseaseDiagnosisEnv

env = MultiDiseaseDiagnosisEnv()
obs = env.reset()

done = False
while not done:
    action = env.action_space.sample()
    obs, reward, done, info = env.step(action)
    print(f"Action: {action}, Reward: {reward}")
    env.render()"""
